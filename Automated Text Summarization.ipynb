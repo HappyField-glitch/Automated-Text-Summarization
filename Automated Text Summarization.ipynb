{
 "cells": [
  {
   "cell_type": "markdown",
   "metadata": {},
   "source": [
    "## Project: Automated Text Summarization"
   ]
  },
  {
   "cell_type": "markdown",
   "metadata": {},
   "source": [
    "**Yu Qiao** from Tianjin University"
   ]
  },
  {
   "cell_type": "markdown",
   "metadata": {},
   "source": [
    "<font color=green>Step 1: Import **SpaCy** library and **stop words**.</font>"
   ]
  },
  {
   "cell_type": "code",
   "execution_count": 34,
   "metadata": {},
   "outputs": [],
   "source": [
    "import spacy\n",
    "from spacy.lang.en.stop_words import STOP_WORDS"
   ]
  },
  {
   "cell_type": "markdown",
   "metadata": {},
   "source": [
    "<font color=green>Step 2: **Import punctuation** from string and add 'n' to the punctuation string.</font>"
   ]
  },
  {
   "cell_type": "code",
   "execution_count": 35,
   "metadata": {},
   "outputs": [],
   "source": [
    "stopwords=list(STOP_WORDS)\n",
    "from string import punctuation\n",
    "# punctuation=punctuation+ 'n'+'\\n'+'\\n\\n'\n",
    "punctuation=punctuation+ 'n'+'—'+'\\n'"
   ]
  },
  {
   "cell_type": "markdown",
   "metadata": {},
   "source": [
    "<font color=green>Step 3: **Open the text** and store in the variable 'text'.</font>"
   ]
  },
  {
   "cell_type": "code",
   "execution_count": 36,
   "metadata": {},
   "outputs": [
    {
     "name": "stdout",
     "output_type": "stream",
     "text": [
      "Maria Sharapova has basically no friends as tennis players on the WTA Tour. The Russian player has no problems in openly speaking about it and in a recent interview she said: 'I don't really hide any feelings too much.\n",
      "\n",
      "I think everyone knows this is my job here. When I'm on the courts or when I'm on the court playing, I'm a competitor and I want to beat every single person whether they're in the locker room or across the net.\n",
      "\n",
      "So I'm not the one to strike up a conversation about the weather and know that in the next few minutes I have to go and try to win a tennis match. I'm a pretty competitive girl. I say my hellos, but I'm not sending any players flowers as well.\n",
      "\n",
      "Uhm, I'm not really friendly or close to many players. I have not a lot of friends away from the courts.' When she said she is not really close to a lot of players, is that something strategic that she is doing? Is it different on the men's tour than the women's tour? 'No, not at all.\n",
      "\n",
      "I think just because you're in the same sport doesn't mean that you have to be friends with everyone just because you're categorized, you're a tennis player, so you're going to get along with tennis players.\n",
      "\n",
      "I think every person has different interests. I have friends that have completely different jobs and interests, and I've met them in very different parts of my life. I think everyone just thinks because we're tennis players we should be the greatest of friends.\n",
      "\n",
      "But ultimately tennis is just a very small part of what we do. There are so many other things that we're interested in, that we do.'\n"
     ]
    }
   ],
   "source": [
    "text = open('ATS-Sharapova.txt').read()\n",
    "# text = \"\"\"\"After decades of painting fakes, falsifying evidence and diligently covering their tracks, it was a single act of carelessness that brought the Beltracchis' deception to light.\n",
    "# One half of the German husband-and-wife duo, Wolfgang Beltracchi, had run out of the zinc he used to create white paint for their forgery operation. He instead purchased a zinc pigment from a Dutch manufacturer who did not disclose that it contained titanium.\n",
    "# The next year, after one of Wolfgang's creations — \"Red Picture with Horses,\" which had been passed off as the work of expressionist artist Heinrich Campendonk — sold at auction for a record 2.8 million euros (then $3.6 million), an inconsistency emerged. Analysis of the painting found traces of the titanium, but the substance had only been used as a white pigment since the 1920s.\n",
    "# The work in question was supposedly made in 1914.\n",
    "# This discovery sparked a chain of events that would unravel a multi-million-dollar scheme that had fooled buyers and galleries around the world. Wolfgang's paintings had found their way onto auction blocks and into private collections, including that of actor Steve Martin. The Beltracchis had even deceived expert art assessors — or, as they have since alleged, paid one of them large enough fees to effectively buy his silence.\n",
    "# In 2011, after more than 30 years in business, Wolfgang and Helene were sentenced to six and four years in prison, respectively, though both were released early. They were also ordered to pay 35 million euros ($38 million) in damages.\"\"\"\n",
    "print(text)"
   ]
  },
  {
   "cell_type": "markdown",
   "metadata": {},
   "source": [
    "<font color=green>Step 4: **Tokenization**.</font>"
   ]
  },
  {
   "cell_type": "code",
   "execution_count": 37,
   "metadata": {},
   "outputs": [
    {
     "name": "stdout",
     "output_type": "stream",
     "text": [
      "['Maria', 'Sharapova', 'has', 'basically', 'no', 'friends', 'as', 'tennis', 'players', 'on', 'the', 'WTA', 'Tour', '.', 'The', 'Russian', 'player', 'has', 'no', 'problems', 'in', 'openly', 'speaking', 'about', 'it', 'and', 'in', 'a', 'recent', 'interview', 'she', 'said', ':', \"'\", 'I', 'do', \"n't\", 'really', 'hide', 'any', 'feelings', 'too', 'much', '.', '\\n\\n', 'I', 'think', 'everyone', 'knows', 'this', 'is', 'my', 'job', 'here', '.', 'When', 'I', \"'m\", 'on', 'the', 'courts', 'or', 'when', 'I', \"'m\", 'on', 'the', 'court', 'playing', ',', 'I', \"'m\", 'a', 'competitor', 'and', 'I', 'want', 'to', 'beat', 'every', 'single', 'person', 'whether', 'they', \"'re\", 'in', 'the', 'locker', 'room', 'or', 'across', 'the', 'net', '.', '\\n\\n', 'So', 'I', \"'m\", 'not', 'the', 'one', 'to', 'strike', 'up', 'a', 'conversation', 'about', 'the', 'weather', 'and', 'know', 'that', 'in', 'the', 'next', 'few', 'minutes', 'I', 'have', 'to', 'go', 'and', 'try', 'to', 'win', 'a', 'tennis', 'match', '.', 'I', \"'m\", 'a', 'pretty', 'competitive', 'girl', '.', 'I', 'say', 'my', 'hellos', ',', 'but', 'I', \"'m\", 'not', 'sending', 'any', 'players', 'flowers', 'as', 'well', '.', '\\n\\n', 'Uhm', ',', 'I', \"'m\", 'not', 'really', 'friendly', 'or', 'close', 'to', 'many', 'players', '.', 'I', 'have', 'not', 'a', 'lot', 'of', 'friends', 'away', 'from', 'the', 'courts', '.', \"'\", 'When', 'she', 'said', 'she', 'is', 'not', 'really', 'close', 'to', 'a', 'lot', 'of', 'players', ',', 'is', 'that', 'something', 'strategic', 'that', 'she', 'is', 'doing', '?', 'Is', 'it', 'different', 'on', 'the', 'men', \"'s\", 'tour', 'than', 'the', 'women', \"'s\", 'tour', '?', \"'\", 'No', ',', 'not', 'at', 'all', '.', '\\n\\n', 'I', 'think', 'just', 'because', 'you', \"'re\", 'in', 'the', 'same', 'sport', 'does', \"n't\", 'mean', 'that', 'you', 'have', 'to', 'be', 'friends', 'with', 'everyone', 'just', 'because', 'you', \"'re\", 'categorized', ',', 'you', \"'re\", 'a', 'tennis', 'player', ',', 'so', 'you', \"'re\", 'going', 'to', 'get', 'along', 'with', 'tennis', 'players', '.', '\\n\\n', 'I', 'think', 'every', 'person', 'has', 'different', 'interests', '.', 'I', 'have', 'friends', 'that', 'have', 'completely', 'different', 'jobs', 'and', 'interests', ',', 'and', 'I', \"'ve\", 'met', 'them', 'in', 'very', 'different', 'parts', 'of', 'my', 'life', '.', 'I', 'think', 'everyone', 'just', 'thinks', 'because', 'we', \"'re\", 'tennis', 'players', 'we', 'should', 'be', 'the', 'greatest', 'of', 'friends', '.', '\\n\\n', 'But', 'ultimately', 'tennis', 'is', 'just', 'a', 'very', 'small', 'part', 'of', 'what', 'we', 'do', '.', 'There', 'are', 'so', 'many', 'other', 'things', 'that', 'we', \"'re\", 'interested', 'in', ',', 'that', 'we', 'do', '.', \"'\"]\n"
     ]
    }
   ],
   "source": [
    "nlp = spacy.load('en_core_web_sm')\n",
    "doc= nlp(text)\n",
    "tokens=[token.text for token in doc]\n",
    "print(tokens)"
   ]
  },
  {
   "cell_type": "markdown",
   "metadata": {},
   "source": [
    "<font color=green>Step 5: **Calculate word frequency** from text after removing stop words and punctuation.</font>"
   ]
  },
  {
   "cell_type": "code",
   "execution_count": 38,
   "metadata": {
    "scrolled": true
   },
   "outputs": [
    {
     "data": {
      "text/plain": [
       "{'Maria': 1,\n",
       " 'Sharapova': 1,\n",
       " 'basically': 1,\n",
       " 'friends': 5,\n",
       " 'tennis': 6,\n",
       " 'players': 6,\n",
       " 'WTA': 1,\n",
       " 'Tour': 1,\n",
       " 'Russian': 1,\n",
       " 'player': 2,\n",
       " 'problems': 1,\n",
       " 'openly': 1,\n",
       " 'speaking': 1,\n",
       " 'recent': 1,\n",
       " 'interview': 1,\n",
       " 'said': 2,\n",
       " 'hide': 1,\n",
       " 'feelings': 1,\n",
       " '\\n\\n': 6,\n",
       " 'think': 4,\n",
       " 'knows': 1,\n",
       " 'job': 1,\n",
       " 'courts': 2,\n",
       " 'court': 1,\n",
       " 'playing': 1,\n",
       " 'competitor': 1,\n",
       " 'want': 1,\n",
       " 'beat': 1,\n",
       " 'single': 1,\n",
       " 'person': 2,\n",
       " 'locker': 1,\n",
       " 'room': 1,\n",
       " 'net': 1,\n",
       " 'strike': 1,\n",
       " 'conversation': 1,\n",
       " 'weather': 1,\n",
       " 'know': 1,\n",
       " 'minutes': 1,\n",
       " 'try': 1,\n",
       " 'win': 1,\n",
       " 'match': 1,\n",
       " 'pretty': 1,\n",
       " 'competitive': 1,\n",
       " 'girl': 1,\n",
       " 'hellos': 1,\n",
       " 'sending': 1,\n",
       " 'flowers': 1,\n",
       " 'Uhm': 1,\n",
       " 'friendly': 1,\n",
       " 'close': 2,\n",
       " 'lot': 2,\n",
       " 'away': 1,\n",
       " 'strategic': 1,\n",
       " 'different': 4,\n",
       " 'men': 1,\n",
       " 'tour': 2,\n",
       " 'women': 1,\n",
       " 'sport': 1,\n",
       " 'mean': 1,\n",
       " 'categorized': 1,\n",
       " 'going': 1,\n",
       " 'interests': 2,\n",
       " 'completely': 1,\n",
       " 'jobs': 1,\n",
       " 'met': 1,\n",
       " 'parts': 1,\n",
       " 'life': 1,\n",
       " 'thinks': 1,\n",
       " 'greatest': 1,\n",
       " 'ultimately': 1,\n",
       " 'small': 1,\n",
       " 'things': 1,\n",
       " 'interested': 1}"
      ]
     },
     "execution_count": 38,
     "metadata": {},
     "output_type": "execute_result"
    }
   ],
   "source": [
    "word_frequencies={}\n",
    "\n",
    "for word in doc:\n",
    "    if word.text.lower() not in stopwords:\n",
    "        if word.text.lower() not in punctuation:\n",
    "            if word.text not in word_frequencies.keys():\n",
    "                word_frequencies[word.text] = 1\n",
    "            else:\n",
    "                word_frequencies[word.text] += 1\n",
    "                \n",
    "word_frequencies"
   ]
  },
  {
   "cell_type": "markdown",
   "metadata": {},
   "source": [
    "<font color=green>Step 6: **Calculate the maximum frequency** and divide it by the number of words to **generate the normalized frequency**.</font>"
   ]
  },
  {
   "cell_type": "code",
   "execution_count": 39,
   "metadata": {},
   "outputs": [
    {
     "data": {
      "text/plain": [
       "{'Maria': 0.16666666666666666,\n",
       " 'Sharapova': 0.16666666666666666,\n",
       " 'basically': 0.16666666666666666,\n",
       " 'friends': 0.8333333333333334,\n",
       " 'tennis': 1.0,\n",
       " 'players': 1.0,\n",
       " 'WTA': 0.16666666666666666,\n",
       " 'Tour': 0.16666666666666666,\n",
       " 'Russian': 0.16666666666666666,\n",
       " 'player': 0.3333333333333333,\n",
       " 'problems': 0.16666666666666666,\n",
       " 'openly': 0.16666666666666666,\n",
       " 'speaking': 0.16666666666666666,\n",
       " 'recent': 0.16666666666666666,\n",
       " 'interview': 0.16666666666666666,\n",
       " 'said': 0.3333333333333333,\n",
       " 'hide': 0.16666666666666666,\n",
       " 'feelings': 0.16666666666666666,\n",
       " '\\n\\n': 1.0,\n",
       " 'think': 0.6666666666666666,\n",
       " 'knows': 0.16666666666666666,\n",
       " 'job': 0.16666666666666666,\n",
       " 'courts': 0.3333333333333333,\n",
       " 'court': 0.16666666666666666,\n",
       " 'playing': 0.16666666666666666,\n",
       " 'competitor': 0.16666666666666666,\n",
       " 'want': 0.16666666666666666,\n",
       " 'beat': 0.16666666666666666,\n",
       " 'single': 0.16666666666666666,\n",
       " 'person': 0.3333333333333333,\n",
       " 'locker': 0.16666666666666666,\n",
       " 'room': 0.16666666666666666,\n",
       " 'net': 0.16666666666666666,\n",
       " 'strike': 0.16666666666666666,\n",
       " 'conversation': 0.16666666666666666,\n",
       " 'weather': 0.16666666666666666,\n",
       " 'know': 0.16666666666666666,\n",
       " 'minutes': 0.16666666666666666,\n",
       " 'try': 0.16666666666666666,\n",
       " 'win': 0.16666666666666666,\n",
       " 'match': 0.16666666666666666,\n",
       " 'pretty': 0.16666666666666666,\n",
       " 'competitive': 0.16666666666666666,\n",
       " 'girl': 0.16666666666666666,\n",
       " 'hellos': 0.16666666666666666,\n",
       " 'sending': 0.16666666666666666,\n",
       " 'flowers': 0.16666666666666666,\n",
       " 'Uhm': 0.16666666666666666,\n",
       " 'friendly': 0.16666666666666666,\n",
       " 'close': 0.3333333333333333,\n",
       " 'lot': 0.3333333333333333,\n",
       " 'away': 0.16666666666666666,\n",
       " 'strategic': 0.16666666666666666,\n",
       " 'different': 0.6666666666666666,\n",
       " 'men': 0.16666666666666666,\n",
       " 'tour': 0.3333333333333333,\n",
       " 'women': 0.16666666666666666,\n",
       " 'sport': 0.16666666666666666,\n",
       " 'mean': 0.16666666666666666,\n",
       " 'categorized': 0.16666666666666666,\n",
       " 'going': 0.16666666666666666,\n",
       " 'interests': 0.3333333333333333,\n",
       " 'completely': 0.16666666666666666,\n",
       " 'jobs': 0.16666666666666666,\n",
       " 'met': 0.16666666666666666,\n",
       " 'parts': 0.16666666666666666,\n",
       " 'life': 0.16666666666666666,\n",
       " 'thinks': 0.16666666666666666,\n",
       " 'greatest': 0.16666666666666666,\n",
       " 'ultimately': 0.16666666666666666,\n",
       " 'small': 0.16666666666666666,\n",
       " 'things': 0.16666666666666666,\n",
       " 'interested': 0.16666666666666666}"
      ]
     },
     "execution_count": 39,
     "metadata": {},
     "output_type": "execute_result"
    }
   ],
   "source": [
    "max_frequency=max(word_frequencies.values())\n",
    "for word in word_frequencies.keys():\n",
    "    word_frequencies[word]=word_frequencies[word]/max_frequency\n",
    "    \n",
    "word_frequencies"
   ]
  },
  {
   "cell_type": "markdown",
   "metadata": {},
   "source": [
    "<font color=green>Step 7: Get the **sentence tokens**.</font>"
   ]
  },
  {
   "cell_type": "code",
   "execution_count": 40,
   "metadata": {},
   "outputs": [
    {
     "data": {
      "text/plain": [
       "[Maria Sharapova has basically no friends as tennis players on the WTA Tour.,\n",
       " The Russian player has no problems in openly speaking about it and in a recent interview,\n",
       " she said: 'I don't really hide any feelings too much.\n",
       " ,\n",
       " I think everyone knows this is my job here.,\n",
       " When I'm on the courts or when I'm on the court playing, I'm a competitor,\n",
       " and I want to beat every single person whether they're in the locker room or across the net.\n",
       " ,\n",
       " So I'm not the one to strike up a conversation about the weather and know that in the next few minutes I have to go and try to win a tennis match.,\n",
       " I'm a pretty competitive girl.,\n",
       " I say my hellos, but I'm not sending any players flowers as well.\n",
       " ,\n",
       " Uhm, I'm not really friendly or close to many players.,\n",
       " I have not a lot of friends away from the courts.',\n",
       " When she said she is not really close to a lot of players, is that something strategic that she is doing?,\n",
       " Is it different on the men's tour than the women's tour? ',\n",
       " No, not at all.\n",
       " ,\n",
       " I think just because you're in the same sport,\n",
       " doesn't mean that you have to be friends with everyone just because you're categorized, you're a tennis player, so you're going to get along with tennis players.\n",
       " ,\n",
       " I think every person has different interests.,\n",
       " I have friends that have completely different jobs and interests, and I've met them in very different parts of my life.,\n",
       " I think everyone just thinks because we're tennis players we should be the greatest of friends.\n",
       " ,\n",
       " But ultimately tennis is just a very small part of what we do.,\n",
       " There are so many other things that we're interested in, that we do.']"
      ]
     },
     "execution_count": 40,
     "metadata": {},
     "output_type": "execute_result"
    }
   ],
   "source": [
    "sentence_tokens= [sent for sent in doc.sents]\n",
    "sentence_tokens"
   ]
  },
  {
   "cell_type": "markdown",
   "metadata": {},
   "source": [
    "<font color=green>Step 8: **Count the importance score** of sentences by adding word frequency in each sentence.</font>"
   ]
  },
  {
   "cell_type": "code",
   "execution_count": 41,
   "metadata": {},
   "outputs": [
    {
     "data": {
      "text/plain": [
       "{Maria Sharapova has basically no friends as tennis players on the WTA Tour.: 3.3333333333333335,\n",
       " The Russian player has no problems in openly speaking about it and in a recent interview: 1.1666666666666665,\n",
       " she said: 'I don't really hide any feelings too much.\n",
       " : 1.6666666666666665,\n",
       " I think everyone knows this is my job here.: 0.9999999999999999,\n",
       " When I'm on the courts or when I'm on the court playing, I'm a competitor: 0.8333333333333333,\n",
       " and I want to beat every single person whether they're in the locker room or across the net.\n",
       " : 2.333333333333333,\n",
       " So I'm not the one to strike up a conversation about the weather and know that in the next few minutes I have to go and try to win a tennis match.: 2.333333333333333,\n",
       " I'm a pretty competitive girl.: 0.5,\n",
       " I say my hellos, but I'm not sending any players flowers as well.\n",
       " : 2.5,\n",
       " Uhm, I'm not really friendly or close to many players.: 1.5,\n",
       " I have not a lot of friends away from the courts.': 1.6666666666666667,\n",
       " When she said she is not really close to a lot of players, is that something strategic that she is doing?: 2.1666666666666665,\n",
       " Is it different on the men's tour than the women's tour? ': 1.6666666666666665,\n",
       " No, not at all.\n",
       " : 1.0,\n",
       " I think just because you're in the same sport: 0.8333333333333333,\n",
       " doesn't mean that you have to be friends with everyone just because you're categorized, you're a tennis player, so you're going to get along with tennis players.\n",
       " : 5.666666666666667,\n",
       " I think every person has different interests.: 1.9999999999999998,\n",
       " I have friends that have completely different jobs and interests, and I've met them in very different parts of my life.: 3.3333333333333326,\n",
       " I think everyone just thinks because we're tennis players we should be the greatest of friends.\n",
       " : 4.833333333333333,\n",
       " But ultimately tennis is just a very small part of what we do.: 1.3333333333333335,\n",
       " There are so many other things that we're interested in, that we do.': 0.3333333333333333}"
      ]
     },
     "execution_count": 41,
     "metadata": {},
     "output_type": "execute_result"
    }
   ],
   "source": [
    "sentence_scores = {}\n",
    "\n",
    "for sent in sentence_tokens:\n",
    "    for word in sent:\n",
    "        if word.text.lower() in word_frequencies.keys():\n",
    "            if sent not in sentence_scores.keys():                            \n",
    "             sentence_scores[sent]=word_frequencies[word.text.lower()]\n",
    "            else:\n",
    "             sentence_scores[sent]+=word_frequencies[word.text.lower()]\n",
    "            \n",
    "sentence_scores"
   ]
  },
  {
   "cell_type": "markdown",
   "metadata": {},
   "source": [
    "<font color=green>Step 9: Import nlargest from headhq and **select top 25% of the text**.</font>"
   ]
  },
  {
   "cell_type": "code",
   "execution_count": 42,
   "metadata": {
    "scrolled": true
   },
   "outputs": [
    {
     "data": {
      "text/plain": [
       "[doesn't mean that you have to be friends with everyone just because you're categorized, you're a tennis player, so you're going to get along with tennis players.\n",
       " ,\n",
       " I think everyone just thinks because we're tennis players we should be the greatest of friends.\n",
       " ,\n",
       " Maria Sharapova has basically no friends as tennis players on the WTA Tour.,\n",
       " I have friends that have completely different jobs and interests, and I've met them in very different parts of my life.,\n",
       " I say my hellos, but I'm not sending any players flowers as well.\n",
       " ]"
      ]
     },
     "execution_count": 42,
     "metadata": {},
     "output_type": "execute_result"
    }
   ],
   "source": [
    "from heapq import nlargest\n",
    "\n",
    "select_length=int(len(sentence_tokens)*0.25)\n",
    "summary = nlargest(select_length, sentence_scores,key=sentence_scores.get)\n",
    "summary"
   ]
  },
  {
   "cell_type": "markdown",
   "metadata": {},
   "source": [
    "<font color=green>Step 10: **Generate the summarization**.</font>"
   ]
  },
  {
   "cell_type": "code",
   "execution_count": 43,
   "metadata": {
    "scrolled": true
   },
   "outputs": [
    {
     "name": "stdout",
     "output_type": "stream",
     "text": [
      "doesn't mean that you have to be friends with everyone just because you're categorized, you're a tennis player, so you're going to get along with tennis players.\n",
      "\n",
      "I think everyone just thinks because we're tennis players we should be the greatest of friends.\n",
      "\n",
      "Maria Sharapova has basically no friends as tennis players on the WTA Tour.I have friends that have completely different jobs and interests, and I've met them in very different parts of my life.I say my hellos, but I'm not sending any players flowers as well.\n",
      "\n",
      "\n"
     ]
    }
   ],
   "source": [
    "final_summary=[word.text for word in summary]\n",
    "summary=''.join(final_summary)\n",
    "print(summary)"
   ]
  }
 ],
 "metadata": {
  "kernelspec": {
   "display_name": "Python 3 (ipykernel)",
   "language": "python",
   "name": "python3"
  },
  "language_info": {
   "codemirror_mode": {
    "name": "ipython",
    "version": 3
   },
   "file_extension": ".py",
   "mimetype": "text/x-python",
   "name": "python",
   "nbconvert_exporter": "python",
   "pygments_lexer": "ipython3",
   "version": "3.9.13"
  }
 },
 "nbformat": 4,
 "nbformat_minor": 2
}
